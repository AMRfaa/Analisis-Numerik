{
  "nbformat": 4,
  "nbformat_minor": 0,
  "metadata": {
    "colab": {
      "provenance": []
    },
    "kernelspec": {
      "name": "python3",
      "display_name": "Python 3"
    },
    "language_info": {
      "name": "python"
    }
  },
  "cells": [
    {
      "cell_type": "code",
      "source": [],
      "metadata": {
        "id": "lfDi6VrwPhcg"
      },
      "execution_count": null,
      "outputs": []
    },
    {
      "cell_type": "markdown",
      "source": [
        "# Algoritma Penjumlahan\n",
        "\n",
        "##  Problem :\n",
        "*   100000,00 + (0,00001 + 0,00001 sampai 100.000x) = ?\n",
        "*   (0,00001 + 0,00001 + 0,000001 sampai 100.000x) + 100000,00 = ?\n",
        "\n",
        "    ## Algoritma A\n",
        "    \n",
        "    #### Hasil Analitik:\n",
        "    > * 100000 + (0,00001 + … + 0,00001 sampai yang ke 100.000 kali) = 100001\n",
        "    #### Hasil Numerik:\n",
        "    > * (0,00001 + … + 0,00001 sampai yang ke 100.000 kali) + 100000 = 100001,00000033854\n",
        "    ####\tGalat :\n",
        "    > * 100001 - 100001,00000033854 = 0,00000033854\n",
        "\n",
        "\n",
        "    ### Algoritma B\n",
        "    ####  Hasil analitik :\n",
        "    > * 100000 + (0,00001 + … + 0,00001 sampai yang ke 100.000 kali) = 100001\n",
        "    ####   Hasil numerik :\n",
        "    > * (0,00001 + … + 0,00001 sampai yang ke 100.000 kali) + 100000 = 100001\n",
        "    ####  Galat:\n",
        "    > * 100001 - 100001 = 0"
      ],
      "metadata": {
        "id": "3SPSlPD3NA15"
      }
    },
    {
      "cell_type": "code",
      "source": [
        "# Algoritma A\n",
        "# input nilai awal yang merupakan angka yang paling besar\n",
        "x_awal = 100000\n",
        "\n",
        "# input nilai selanjutnya yang merupakan angka yang kecil\n",
        "x_selanjutnya = 0.00001\n",
        "\n",
        "# melakukan perulangan angka 0.00001 sebanyak 100.000 kali\n",
        "for _ in range (100000):\n",
        "  x_awal += x_selanjutnya\n",
        "\n",
        "# cetak hasil\n",
        "print(f\"Hasil Algoritma A: {x_awal}\")"
      ],
      "metadata": {
        "colab": {
          "base_uri": "https://localhost:8080/"
        },
        "id": "z-Nk83VWrIKI",
        "outputId": "df45f9e0-dba5-471f-9f69-b83981751b12"
      },
      "execution_count": null,
      "outputs": [
        {
          "output_type": "stream",
          "name": "stdout",
          "text": [
            "Hasil Algoritma A: 100001.00000033854\n"
          ]
        }
      ]
    },
    {
      "cell_type": "code",
      "source": [
        "\n",
        "# Algoritma B\n",
        "total = 0\n",
        "\n",
        "# input nilai awal yang merupakan angka yang paling besar\n",
        "x_awal2 = 0.00001\n",
        "\n",
        "# perulangan angka 0.0001 sebanyak 100000 kali\n",
        "for _ in range (100000):\n",
        "  total += x_awal2\n",
        "\n",
        "# input nilai selanjutnya yang merupakan angka yang besar\n",
        "total += 100000\n",
        "\n",
        "# cetak hasil\n",
        "print(f\"Hasil Algoritma B: {total}\")"
      ],
      "metadata": {
        "id": "LVYq6H-YPBlA",
        "colab": {
          "base_uri": "https://localhost:8080/"
        },
        "outputId": "1591925f-fb1f-4c2f-b393-3ce4f5c911b6"
      },
      "execution_count": 1,
      "outputs": [
        {
          "output_type": "stream",
          "name": "stdout",
          "text": [
            "Hasil Algoritma B: 100001.0\n"
          ]
        }
      ]
    }
  ]
}
