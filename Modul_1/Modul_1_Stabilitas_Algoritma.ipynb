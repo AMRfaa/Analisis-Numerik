{
  "nbformat": 4,
  "nbformat_minor": 0,
  "metadata": {
    "colab": {
      "provenance": []
    },
    "kernelspec": {
      "name": "python3",
      "display_name": "Python 3"
    },
    "language_info": {
      "name": "python"
    }
  },
  "cells": [
    {
      "cell_type": "markdown",
      "source": [
        "algoritma penjumlahan\n",
        "\n",
        "*   problem :\n",
        "*   10000,00 + 0,0001 + 0,0001 + 0,0001 + 0,0001 + 0,0001 = ?\n",
        "*   0,0001 + 0,0001 + 0,0001 + 0,0001 + 0,0001 + 10000,00 = ?\n",
        "\n",
        "Algoritma 1\n",
        "*   Hasil analitik :\n",
        "*   10000,00 + 0,0001 + 0,0001 + 0,0001 + 0,0001 + 0,0001 = 10000.0005\n",
        "*   Hasil numerik algoritma 1 :\n",
        "*   10000,00 + 0,0001 + 0,0001 + 0,0001 + 0,0001 + 0,0001 = 10000.000499999996\n",
        "*   Galat = 10000.0005 - 10000.00049 = 0001\n",
        "\n",
        "Algoritma 2\n",
        "*   Hasil analitik :\n",
        "*   0,0001 + 0,0001 + 0,0001 + 0,0001 + 0,0001 + 10000,00 = 10000.0005\n",
        "*   Hasil numerik algoritma 2 :\n",
        "*   0,0001 + 0,0001 + 0,0001 + 0,0001 + 0,0001 + 10000,00 = 10000.000499999996\n",
        "*   Galat = 10000.0005 - 10000.0005 = 0"
      ],
      "metadata": {
        "id": "3SPSlPD3NA15"
      }
    },
    {
      "cell_type": "code",
      "source": [
        "# algoritma 1\n",
        "# input nilai awal yang merupakan angka yang paling besar\n",
        "x_awall = 10000.00\n",
        "\n",
        "# input nilai selanjutnya yang merupakan angka yang kecil\n",
        "x_selanjutnya = 0.0001\n",
        "\n",
        "# melakukan perulangan angka 0.0001 sebanyak 5 kali\n",
        "for _ in range (5):\n",
        "  x_awall += x_selanjutnya\n",
        "\n",
        "# cetak hasil\n",
        "print(f\"HAsil Algoritma 1: {x_awall}\")"
      ],
      "metadata": {
        "colab": {
          "base_uri": "https://localhost:8080/"
        },
        "id": "kR5W2u0PM82F",
        "outputId": "cd4cd247-f18c-4dd2-e7dc-eb54c774dd90"
      },
      "execution_count": null,
      "outputs": [
        {
          "output_type": "stream",
          "name": "stdout",
          "text": [
            "HAsil Algoritma 1: 10000.000499999996\n"
          ]
        }
      ]
    },
    {
      "cell_type": "code",
      "source": [
        "# algoritma 2\n",
        "total2 = 0.0\n",
        "\n",
        "# input nilai awal yang merupakan angka yang paling besar\n",
        "x_awal2 = 0.0001\n",
        "\n",
        "# perulangan angka 0.0001 sebanyak 5 kali\n",
        "for _ in range (5):\n",
        "  total2 += x_awal2\n",
        "\n",
        "# input nilai selanjutnya yang merupakan angka yang besar\n",
        "total2 += 10000.00\n",
        "\n",
        "# cetak hasil\n",
        "print(f\"HAsil Algoritma 2: {total2}\")"
      ],
      "metadata": {
        "colab": {
          "base_uri": "https://localhost:8080/"
        },
        "id": "0Y-ok1OUQfXA",
        "outputId": "56ae4c22-efea-4de2-b014-0b17ce1b1f53"
      },
      "execution_count": null,
      "outputs": [
        {
          "output_type": "stream",
          "name": "stdout",
          "text": [
            "HAsil Algoritma 2: 10000.0005\n"
          ]
        }
      ]
    },
    {
      "cell_type": "code",
      "source": [
        "# Algoritma A\n",
        "# input nilai awal yang merupakan angka yang paling besar\n",
        "x_awal = 100000\n",
        "\n",
        "# input nilai selanjutnya yang merupakan angka yang kecil\n",
        "x_selanjutnya = 0.00001\n",
        "\n",
        "# melakukan perulangan angka 0.00001 sebanyak 100.000 kali\n",
        "for _ in range (100000):\n",
        "  x_awal += x_selanjutnya\n",
        "\n",
        "# cetak hasil\n",
        "print(f\"Hasil Algoritma A: {x_awal}\")"
      ],
      "metadata": {
        "colab": {
          "base_uri": "https://localhost:8080/"
        },
        "id": "z-Nk83VWrIKI",
        "outputId": "df45f9e0-dba5-471f-9f69-b83981751b12"
      },
      "execution_count": 1,
      "outputs": [
        {
          "output_type": "stream",
          "name": "stdout",
          "text": [
            "Hasil Algoritma A: 100001.00000033854\n"
          ]
        }
      ]
    }
  ]
}